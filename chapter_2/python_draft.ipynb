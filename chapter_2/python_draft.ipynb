{
 "cells": [
  {
   "cell_type": "code",
   "execution_count": 6,
   "metadata": {
    "collapsed": true
   },
   "outputs": [],
   "source": [
    "from vec import Vec"
   ]
  },
  {
   "cell_type": "code",
   "execution_count": 187,
   "metadata": {
    "collapsed": true
   },
   "outputs": [],
   "source": [
    "v = Vec({\"A\", \"B\", \"C\"}, {\"A\":1, \"B\":2, \"C\":3})"
   ]
  },
  {
   "cell_type": "code",
   "execution_count": 188,
   "metadata": {
    "collapsed": true
   },
   "outputs": [],
   "source": [
    "l = Vec({\"A\", \"B\", \"C\"}, {\"A\":1, \"B\":2, \"C\":3})"
   ]
  },
  {
   "cell_type": "code",
   "execution_count": 59,
   "metadata": {},
   "outputs": [
    {
     "name": "stdout",
     "output_type": "stream",
     "text": [
      "5668495261044835392\n"
     ]
    }
   ],
   "source": [
    "v.__hash__()"
   ]
  },
  {
   "cell_type": "code",
   "execution_count": 60,
   "metadata": {},
   "outputs": [
    {
     "data": {
      "text/plain": [
       "5668495261044835392"
      ]
     },
     "execution_count": 60,
     "metadata": {},
     "output_type": "execute_result"
    }
   ],
   "source": [
    "l.__hash__()"
   ]
  },
  {
   "cell_type": "code",
   "execution_count": 105,
   "metadata": {},
   "outputs": [
    {
     "data": {
      "text/plain": [
       "'0b11111111'"
      ]
     },
     "execution_count": 105,
     "metadata": {},
     "output_type": "execute_result"
    }
   ],
   "source": [
    "bin(255)"
   ]
  },
  {
   "cell_type": "code",
   "execution_count": 107,
   "metadata": {},
   "outputs": [
    {
     "data": {
      "text/plain": [
       "8224"
      ]
     },
     "execution_count": 107,
     "metadata": {},
     "output_type": "execute_result"
    }
   ],
   "source": [
    "ord('\\u2020')"
   ]
  },
  {
   "cell_type": "code",
   "execution_count": 109,
   "metadata": {},
   "outputs": [
    {
     "data": {
      "text/plain": [
       "'†'"
      ]
     },
     "execution_count": 109,
     "metadata": {},
     "output_type": "execute_result"
    }
   ],
   "source": [
    "chr(8224)"
   ]
  },
  {
   "cell_type": "code",
   "execution_count": 112,
   "metadata": {},
   "outputs": [
    {
     "data": {
      "text/plain": [
       "b'A'"
      ]
     },
     "execution_count": 112,
     "metadata": {},
     "output_type": "execute_result"
    }
   ],
   "source": [
    "'A'.encode(\"ascii\")"
   ]
  },
  {
   "cell_type": "code",
   "execution_count": 127,
   "metadata": {},
   "outputs": [
    {
     "data": {
      "text/plain": [
       "b'\\xe5\\xaf\\x92\\xe6\\xa2\\x85'"
      ]
     },
     "execution_count": 127,
     "metadata": {},
     "output_type": "execute_result"
    }
   ],
   "source": [
    "s = \"寒梅\".encode(\"utf-8\")\n",
    "s"
   ]
  },
  {
   "cell_type": "code",
   "execution_count": 123,
   "metadata": {},
   "outputs": [
    {
     "data": {
      "text/plain": [
       "'䮑'"
      ]
     },
     "execution_count": 123,
     "metadata": {},
     "output_type": "execute_result"
    }
   ],
   "source": [
    "b'\\xe4\\xae\\x91\\xe5\\xa1\\xff'.decode(\"utf-8\", \"ignore\")"
   ]
  },
  {
   "cell_type": "code",
   "execution_count": 163,
   "metadata": {},
   "outputs": [
    {
     "name": "stdout",
     "output_type": "stream",
     "text": [
      "Hello, 小明, 成绩提升了 18.1 %\n",
      "Hello, 小明, 成绩提升了 18.1 %\n"
     ]
    }
   ],
   "source": [
    "pre = 72\n",
    "affix = 85\n",
    "inc = (affix - pre) / pre * 100\n",
    "print('Hello, %s, 成绩提升了 %.1f %%' % ('小明', inc))\n",
    "print('Hello, {0}, 成绩提升了 {1:.1f} %'.format('小明', inc))"
   ]
  },
  {
   "cell_type": "code",
   "execution_count": 131,
   "metadata": {},
   "outputs": [
    {
     "name": "stdout",
     "output_type": "stream",
     "text": [
      " 3-01\n",
      "03.14\n"
     ]
    }
   ],
   "source": [
    "print('%2d-%02d' % (3, 1))\n",
    "print('%05.2f' % 3.1415926)"
   ]
  },
  {
   "cell_type": "code",
   "execution_count": 164,
   "metadata": {
    "collapsed": true
   },
   "outputs": [],
   "source": [
    "names = [5, 6]"
   ]
  },
  {
   "cell_type": "code",
   "execution_count": 167,
   "metadata": {},
   "outputs": [
    {
     "data": {
      "text/plain": [
       "'[5, 6]'"
      ]
     },
     "execution_count": 167,
     "metadata": {},
     "output_type": "execute_result"
    }
   ],
   "source": [
    "names.__repr__()"
   ]
  },
  {
   "cell_type": "code",
   "execution_count": 174,
   "metadata": {},
   "outputs": [
    {
     "data": {
      "text/plain": [
       "6"
      ]
     },
     "execution_count": 174,
     "metadata": {},
     "output_type": "execute_result"
    }
   ],
   "source": [
    "names.pop(1)"
   ]
  },
  {
   "cell_type": "code",
   "execution_count": 176,
   "metadata": {},
   "outputs": [],
   "source": [
    "L = [['Apple', 'Google', 'Microsoft'],\n",
    "    ['Java', 'Python', 'Ruby', 'PHP'],\n",
    "    ['Adam', 'Bart', 'Lisa']\n",
    "]"
   ]
  },
  {
   "cell_type": "code",
   "execution_count": 181,
   "metadata": {},
   "outputs": [
    {
     "data": {
      "text/plain": [
       "'Lisa'"
      ]
     },
     "execution_count": 181,
     "metadata": {},
     "output_type": "execute_result"
    }
   ],
   "source": [
    "L[-1][-1]"
   ]
  },
  {
   "cell_type": "code",
   "execution_count": 168,
   "metadata": {},
   "outputs": [
    {
     "data": {
      "text/plain": [
       "'[5, 6]'"
      ]
     },
     "execution_count": 168,
     "metadata": {},
     "output_type": "execute_result"
    }
   ],
   "source": [
    "names.__str__()"
   ]
  },
  {
   "cell_type": "code",
   "execution_count": 170,
   "metadata": {},
   "outputs": [
    {
     "data": {
      "text/plain": [
       "\"Vec({'C', 'B', 'A'},{'C': 3, 'B': 2, 'A': 1})\""
      ]
     },
     "execution_count": 170,
     "metadata": {},
     "output_type": "execute_result"
    }
   ],
   "source": [
    "v.__repr__()"
   ]
  },
  {
   "cell_type": "code",
   "execution_count": 106,
   "metadata": {},
   "outputs": [
    {
     "name": "stdout",
     "output_type": "stream",
     "text": [
      "†\n"
     ]
    }
   ],
   "source": [
    "print('\\u2020')"
   ]
  },
  {
   "cell_type": "code",
   "execution_count": 97,
   "metadata": {},
   "outputs": [],
   "source": [
    "n = 123\n",
    "f = 456.789\n",
    "s1 = 'Hello, world'\n",
    "s2 = 'Hello, \\'Adam\\''\n",
    "s3 = r'Hello, \"Bart\"'\n",
    "s4 = r'''Hello,\n",
    "Lisa!'''"
   ]
  },
  {
   "cell_type": "code",
   "execution_count": 98,
   "metadata": {},
   "outputs": [
    {
     "name": "stdout",
     "output_type": "stream",
     "text": [
      "123\n",
      "456.789\n",
      "Hello, world\n",
      "Hello, 'Adam'\n",
      "Hello, \"Bart\"\n",
      "Hello,\n",
      "Lisa!\n"
     ]
    }
   ],
   "source": [
    "for i in [n ,f , s1, s2, s3, s4]:\n",
    "    print(i)"
   ]
  },
  {
   "cell_type": "code",
   "execution_count": 96,
   "metadata": {},
   "outputs": [
    {
     "name": "stdout",
     "output_type": "stream",
     "text": [
      "s \n",
      "s this is a newline\n",
      "hello\n"
     ]
    }
   ],
   "source": [
    "print(s)"
   ]
  },
  {
   "cell_type": "code",
   "execution_count": 74,
   "metadata": {},
   "outputs": [
    {
     "ename": "TypeError",
     "evalue": "map() must have at least two arguments.",
     "output_type": "error",
     "traceback": [
      "\u001b[0;31m---------------------------------------------------------------------------\u001b[0m",
      "\u001b[0;31mTypeError\u001b[0m                                 Traceback (most recent call last)",
      "\u001b[0;32m<ipython-input-74-76638f559c5a>\u001b[0m in \u001b[0;36m<module>\u001b[0;34m()\u001b[0m\n\u001b[0;32m----> 1\u001b[0;31m \u001b[0mmap\u001b[0m\u001b[0;34m(\u001b[0m\u001b[0;34m[\u001b[0m\u001b[0;34m(\u001b[0m\u001b[0;36m3\u001b[0m\u001b[0;34m,\u001b[0m \u001b[0;36m4\u001b[0m\u001b[0;34m)\u001b[0m\u001b[0;34m,\u001b[0m \u001b[0;34m(\u001b[0m\u001b[0;36m4\u001b[0m\u001b[0;34m,\u001b[0m \u001b[0;36m8\u001b[0m\u001b[0;34m)\u001b[0m\u001b[0;34m]\u001b[0m\u001b[0;34m)\u001b[0m\u001b[0;34m\u001b[0m\u001b[0m\n\u001b[0m",
      "\u001b[0;31mTypeError\u001b[0m: map() must have at least two arguments."
     ]
    }
   ],
   "source": [
    "map([(3, 4), (4, 8)])"
   ]
  },
  {
   "cell_type": "code",
   "execution_count": 61,
   "metadata": {},
   "outputs": [
    {
     "name": "stdout",
     "output_type": "stream",
     "text": [
      "\n",
      " A B C\n",
      "------\n",
      " 1 2 3\n"
     ]
    }
   ],
   "source": [
    "print(v)"
   ]
  },
  {
   "cell_type": "code",
   "execution_count": 18,
   "metadata": {
    "collapsed": true
   },
   "outputs": [],
   "source": [
    "from pymatgen.core import Structure"
   ]
  },
  {
   "cell_type": "code",
   "execution_count": 19,
   "metadata": {
    "collapsed": true
   },
   "outputs": [],
   "source": [
    "s = Structure.from_file(\"/Users/hanmeiTang/temp_job/mvl-151034.cif\")"
   ]
  },
  {
   "cell_type": "code",
   "execution_count": 182,
   "metadata": {},
   "outputs": [],
   "source": [
    "class I(Structure):\n",
    "    def __hash__(self):\n",
    "        \"\"\"Here we pretend Vecs are immutable so we can form sets of them\"\"\"\n",
    "        h = hash(frozenset([1, 2, 3]))\n",
    "        return h"
   ]
  },
  {
   "cell_type": "code",
   "execution_count": 183,
   "metadata": {
    "collapsed": true
   },
   "outputs": [],
   "source": [
    "i = I.from_file(\"/Users/hanmeiTang/temp_job/mvl-151034.cif\")"
   ]
  },
  {
   "cell_type": "code",
   "execution_count": 184,
   "metadata": {
    "collapsed": true
   },
   "outputs": [],
   "source": [
    "class B(object):\n",
    "    __slots__ = ['abc']\n",
    "    def __init__(self, abc):\n",
    "        super(B, self).__setattr__('abc', abc)\n",
    "    def __setattr__(self, name, value):\n",
    "        raise AttributeError(\"'%s' has no attribute %s\" % (self.__class__, name))"
   ]
  },
  {
   "cell_type": "code",
   "execution_count": 37,
   "metadata": {},
   "outputs": [
    {
     "data": {
      "text/plain": [
       "8951402432807287245"
      ]
     },
     "execution_count": 37,
     "metadata": {},
     "output_type": "execute_result"
    }
   ],
   "source": []
  },
  {
   "cell_type": "code",
   "execution_count": 48,
   "metadata": {},
   "outputs": [
    {
     "data": {
      "text/plain": [
       "frozenset({1, 2, 3})"
      ]
     },
     "execution_count": 48,
     "metadata": {},
     "output_type": "execute_result"
    }
   ],
   "source": []
  },
  {
   "cell_type": "code",
   "execution_count": 30,
   "metadata": {
    "collapsed": true
   },
   "outputs": [],
   "source": [
    "i = 1"
   ]
  },
  {
   "cell_type": "code",
   "execution_count": 44,
   "metadata": {
    "collapsed": true
   },
   "outputs": [
    {
     "data": {
      "text/plain": [
       "<bound method I.__hash__ of Structure Summary\n",
       "Lattice\n",
       "    abc : 7.9604672500000007 10.81088544 7.0521435600000002\n",
       " angles : 103.12959343999999 83.338525439999998 60.81487869\n",
       " volume : 497.31423216917989\n",
       "      A : 7.9067251320105765 0.0 0.92343734230043695\n",
       "      B : 5.5943853977353042 8.9189371209423971 -2.4557395324190501\n",
       "      C : 0.0 0.0 7.0521435600000002\n",
       "PeriodicSite: Li (5.7755, 4.9391, 5.4063) [0.3386, 0.5538, 0.9151]\n",
       "PeriodicSite: Li (7.7256, 3.9797, 0.1136) [0.6614, 0.4462, 0.0849]\n",
       "PeriodicSite: Li (7.7260, 3.9723, 3.6382) [0.6620, 0.4454, 0.5843]\n",
       "PeriodicSite: Li (5.7753, 4.9467, 1.8816) [0.3380, 0.5546, 0.4157]\n",
       "PeriodicSite: H (3.6335, 4.3057, -0.5871) [0.1180, 0.4828, 0.0694]\n",
       "PeriodicSite: H (9.8674, 4.6132, 6.1068) [0.8820, 0.5172, 0.9306]\n",
       "PeriodicSite: H (7.0046, 1.7272, 1.3406) [0.7489, 0.1937, 0.1595]\n",
       "PeriodicSite: H (6.4962, 7.1917, 4.1793) [0.2511, 0.8063, 0.8405]\n",
       "PeriodicSite: H (0.6995, 0.6670, 6.1116) [0.0355, 0.0748, 0.8880]\n",
       "PeriodicSite: H (12.8015, 8.2521, -0.5918) [0.9644, 0.9252, 0.1120]\n",
       "PeriodicSite: H (3.6370, 4.3036, 2.9308) [0.1186, 0.4825, 0.5681]\n",
       "PeriodicSite: H (9.8641, 4.6155, 2.5891) [0.8814, 0.5175, 0.4319]\n",
       "PeriodicSite: H (7.0103, 1.7234, 4.8581) [0.7499, 0.1932, 0.6580]\n",
       "PeriodicSite: H (6.4911, 7.1957, 0.6616) [0.2501, 0.8068, 0.3420]\n",
       "PeriodicSite: H (0.7004, 0.6695, 2.5866) [0.0355, 0.0751, 0.3883]\n",
       "PeriodicSite: H (12.8009, 8.2496, 2.9330) [0.9645, 0.9249, 0.6117]\n",
       "PeriodicSite: C (4.8683, 2.8990, 0.1681) [0.3857, 0.3250, 0.0865]\n",
       "PeriodicSite: C (8.6327, 6.0199, 5.3517) [0.6143, 0.6750, 0.9135]\n",
       "PeriodicSite: C (4.9942, 1.5562, 0.5506) [0.5082, 0.1745, 0.0723]\n",
       "PeriodicSite: C (8.5067, 7.3627, 4.9693) [0.4918, 0.8255, 0.9277]\n",
       "PeriodicSite: C (3.8860, 0.6952, 0.3178) [0.4363, 0.0780, 0.0151]\n",
       "PeriodicSite: C (9.6149, 8.2236, 5.2020) [0.5637, 0.9220, 0.9849]\n",
       "PeriodicSite: C (2.6619, 1.1722, 6.8421) [0.2437, 0.1314, 0.9841]\n",
       "PeriodicSite: C (10.8390, 7.7467, -1.3222) [0.7563, 0.8686, 0.0159]\n",
       "PeriodicSite: C (2.5331, 2.5514, -0.4897) [0.1180, 0.2861, 0.0147]\n",
       "PeriodicSite: C (10.9680, 6.3675, 6.0095) [0.8820, 0.7139, 0.9853]\n",
       "PeriodicSite: C (6.1926, 1.0444, 1.1180) [0.7004, 0.1171, 0.1076]\n",
       "PeriodicSite: C (7.3083, 7.8745, 4.4019) [0.2996, 0.8829, 0.8924]\n",
       "PeriodicSite: C (1.5953, 0.2754, 6.5713) [0.1799, 0.0309, 0.9190]\n",
       "PeriodicSite: C (11.9056, 8.6436, -1.0514) [0.8200, 0.9691, 0.0810]\n",
       "PeriodicSite: C (4.8710, 2.8975, 3.6896) [0.3862, 0.3249, 0.5857]\n",
       "PeriodicSite: C (8.6303, 6.0216, 1.8302) [0.6138, 0.6751, 0.4143]\n",
       "PeriodicSite: C (4.9968, 1.5549, 4.0729) [0.5086, 0.1743, 0.5716]\n",
       "PeriodicSite: C (8.5044, 7.3641, 1.4470) [0.4914, 0.8257, 0.4284]\n",
       "PeriodicSite: C (3.8872, 0.6951, 3.8431) [0.4365, 0.0779, 0.5149]\n",
       "PeriodicSite: C (9.6142, 8.2240, 1.6768) [0.5635, 0.9221, 0.4851]\n",
       "PeriodicSite: C (2.6632, 1.1722, 3.3162) [0.2438, 0.1314, 0.4841]\n",
       "PeriodicSite: C (10.8382, 7.7468, 2.2036) [0.7562, 0.8686, 0.5159]\n",
       "PeriodicSite: C (2.5356, 2.5506, 3.0339) [0.1183, 0.2860, 0.5143]\n",
       "PeriodicSite: C (10.9658, 6.3683, 2.4859) [0.8817, 0.7140, 0.4857]\n",
       "PeriodicSite: C (6.1957, 1.0425, 4.6390) [0.7009, 0.1169, 0.6067]\n",
       "PeriodicSite: C (7.3055, 7.8765, 0.8808) [0.2991, 0.8831, 0.3933]\n",
       "PeriodicSite: C (1.5950, 0.2767, 3.0479) [0.1798, 0.0310, 0.4195]\n",
       "PeriodicSite: C (11.9064, 8.6422, 2.4719) [0.8203, 0.9690, 0.5805]\n",
       "PeriodicSite: N (3.6494, 3.3214, -0.2755) [0.1981, 0.3724, 0.0647]\n",
       "PeriodicSite: N (9.8516, 5.5975, 5.7952) [0.8019, 0.6276, 0.9353]\n",
       "PeriodicSite: N (3.6527, 3.3198, 3.2449) [0.1986, 0.3722, 0.5637]\n",
       "PeriodicSite: N (9.8486, 5.5992, 2.2749) [0.8014, 0.6278, 0.4363]\n",
       "PeriodicSite: O (5.8107, 3.7931, 0.1888) [0.4340, 0.4253, 0.1180]\n",
       "PeriodicSite: O (7.6904, 5.1256, 5.3311) [0.5660, 0.5747, 0.8820]\n",
       "PeriodicSite: O (9.3997, 3.1310, 7.0304) [0.9404, 0.3511, 0.9960]\n",
       "PeriodicSite: O (4.1011, 5.7877, -1.5106) [0.0595, 0.6489, 0.0040]\n",
       "PeriodicSite: O (5.8133, 3.7913, 3.7114) [0.4345, 0.4251, 0.6174]\n",
       "PeriodicSite: O (7.6881, 5.1275, 1.8086) [0.5656, 0.5749, 0.3826]\n",
       "PeriodicSite: O (9.4020, 3.1302, 3.5022) [0.9408, 0.3510, 0.4956]\n",
       "PeriodicSite: O (4.0991, 5.7886, 2.0176) [0.0592, 0.6490, 0.5043]>"
      ]
     },
     "execution_count": 44,
     "metadata": {},
     "output_type": "execute_result"
    }
   ],
   "source": [
    "i.__hash__"
   ]
  },
  {
   "cell_type": "code",
   "execution_count": null,
   "metadata": {
    "collapsed": true
   },
   "outputs": [],
   "source": [
    "h = hash(frozenset(self.D))"
   ]
  },
  {
   "cell_type": "code",
   "execution_count": 16,
   "metadata": {
    "collapsed": true
   },
   "outputs": [],
   "source": [
    "b = B(1)"
   ]
  },
  {
   "cell_type": "code",
   "execution_count": 189,
   "metadata": {
    "collapsed": true
   },
   "outputs": [],
   "source": [
    "l = {v: b, l: b}"
   ]
  },
  {
   "cell_type": "code",
   "execution_count": 191,
   "metadata": {},
   "outputs": [
    {
     "data": {
      "text/plain": [
       "1"
      ]
     },
     "execution_count": 191,
     "metadata": {},
     "output_type": "execute_result"
    }
   ],
   "source": [
    "len(l)"
   ]
  },
  {
   "cell_type": "code",
   "execution_count": 192,
   "metadata": {
    "collapsed": true
   },
   "outputs": [],
   "source": [
    "m = (1, 2, 3)\n",
    "n = (1, [2, 3])"
   ]
  },
  {
   "cell_type": "code",
   "execution_count": 193,
   "metadata": {},
   "outputs": [
    {
     "data": {
      "text/plain": [
       "2528502973977326415"
      ]
     },
     "execution_count": 193,
     "metadata": {},
     "output_type": "execute_result"
    }
   ],
   "source": [
    "m.__hash__()"
   ]
  },
  {
   "cell_type": "code",
   "execution_count": 194,
   "metadata": {},
   "outputs": [
    {
     "ename": "TypeError",
     "evalue": "unhashable type: 'list'",
     "output_type": "error",
     "traceback": [
      "\u001b[0;31m---------------------------------------------------------------------------\u001b[0m",
      "\u001b[0;31mTypeError\u001b[0m                                 Traceback (most recent call last)",
      "\u001b[0;32m<ipython-input-194-df50ca041026>\u001b[0m in \u001b[0;36m<module>\u001b[0;34m()\u001b[0m\n\u001b[0;32m----> 1\u001b[0;31m \u001b[0mn\u001b[0m\u001b[0;34m.\u001b[0m\u001b[0m__hash__\u001b[0m\u001b[0;34m(\u001b[0m\u001b[0;34m)\u001b[0m\u001b[0;34m\u001b[0m\u001b[0m\n\u001b[0m",
      "\u001b[0;31mTypeError\u001b[0m: unhashable type: 'list'"
     ]
    }
   ],
   "source": [
    "n.__hash__()"
   ]
  },
  {
   "cell_type": "code",
   "execution_count": 218,
   "metadata": {},
   "outputs": [
    {
     "ename": "TypeError",
     "evalue": "'module' object is not callable",
     "output_type": "error",
     "traceback": [
      "\u001b[0;31m---------------------------------------------------------------------------\u001b[0m",
      "\u001b[0;31mTypeError\u001b[0m                                 Traceback (most recent call last)",
      "\u001b[0;32m<ipython-input-218-75b1617a14a2>\u001b[0m in \u001b[0;36m<module>\u001b[0;34m()\u001b[0m\n\u001b[0;32m----> 1\u001b[0;31m \u001b[0mchr\u001b[0m\u001b[0;34m.\u001b[0m\u001b[0m__self__\u001b[0m\u001b[0;34m(\u001b[0m\u001b[0;34m)\u001b[0m\u001b[0;34m\u001b[0m\u001b[0m\n\u001b[0m",
      "\u001b[0;31mTypeError\u001b[0m: 'module' object is not callable"
     ]
    }
   ],
   "source": [
    "chr.__self__()"
   ]
  },
  {
   "cell_type": "code",
   "execution_count": 219,
   "metadata": {
    "collapsed": true
   },
   "outputs": [],
   "source": [
    "import math"
   ]
  },
  {
   "cell_type": "code",
   "execution_count": 222,
   "metadata": {},
   "outputs": [],
   "source": [
    "def quadratic(a, b, c):\n",
    "    \"\"\"Solve ax^2 + bx + c = 0\"\"\"\n",
    "    l = -b\n",
    "    m = math.sqrt(b ** 2 - 4 * a * c)\n",
    "    n = 2 * a\n",
    "    s1 = (l + m) / n\n",
    "    s2 = (l - m) / n\n",
    "    return s1, s2"
   ]
  },
  {
   "cell_type": "code",
   "execution_count": 224,
   "metadata": {},
   "outputs": [
    {
     "data": {
      "text/plain": [
       "(1.0, -4.0)"
      ]
     },
     "execution_count": 224,
     "metadata": {},
     "output_type": "execute_result"
    }
   ],
   "source": [
    "quadratic(1, 3, -4)"
   ]
  },
  {
   "cell_type": "code",
   "execution_count": 227,
   "metadata": {},
   "outputs": [
    {
     "ename": "TypeError",
     "evalue": "pow expected at least 2 arguments, got 1",
     "output_type": "error",
     "traceback": [
      "\u001b[0;31m---------------------------------------------------------------------------\u001b[0m",
      "\u001b[0;31mTypeError\u001b[0m                                 Traceback (most recent call last)",
      "\u001b[0;32m<ipython-input-227-3b525de508ff>\u001b[0m in \u001b[0;36m<module>\u001b[0;34m()\u001b[0m\n\u001b[0;32m----> 1\u001b[0;31m \u001b[0mpow\u001b[0m\u001b[0;34m(\u001b[0m\u001b[0;36m5\u001b[0m\u001b[0;34m)\u001b[0m\u001b[0;34m\u001b[0m\u001b[0m\n\u001b[0m",
      "\u001b[0;31mTypeError\u001b[0m: pow expected at least 2 arguments, got 1"
     ]
    }
   ],
   "source": [
    "pow(5)"
   ]
  },
  {
   "cell_type": "code",
   "execution_count": 229,
   "metadata": {
    "collapsed": true
   },
   "outputs": [],
   "source": [
    "for i in ():\n",
    "    print(i)"
   ]
  },
  {
   "cell_type": "code",
   "execution_count": 239,
   "metadata": {},
   "outputs": [],
   "source": [
    "def calc(numbers, *args, a, b):\n",
    "    summation = 0\n",
    "    for n in numbers:\n",
    "        summation += n\n",
    "    return summation"
   ]
  },
  {
   "cell_type": "code",
   "execution_count": 241,
   "metadata": {},
   "outputs": [
    {
     "ename": "TypeError",
     "evalue": "calc() missing 2 required keyword-only arguments: 'a' and 'b'",
     "output_type": "error",
     "traceback": [
      "\u001b[0;31m---------------------------------------------------------------------------\u001b[0m",
      "\u001b[0;31mTypeError\u001b[0m                                 Traceback (most recent call last)",
      "\u001b[0;32m<ipython-input-241-8e8fdfbc1f35>\u001b[0m in \u001b[0;36m<module>\u001b[0;34m()\u001b[0m\n\u001b[0;32m----> 1\u001b[0;31m \u001b[0mcalc\u001b[0m\u001b[0;34m(\u001b[0m\u001b[0;34m[\u001b[0m\u001b[0;36m1\u001b[0m\u001b[0;34m,\u001b[0m \u001b[0;36m2\u001b[0m\u001b[0;34m,\u001b[0m \u001b[0;36m3\u001b[0m\u001b[0;34m]\u001b[0m\u001b[0;34m)\u001b[0m\u001b[0;34m\u001b[0m\u001b[0m\n\u001b[0m",
      "\u001b[0;31mTypeError\u001b[0m: calc() missing 2 required keyword-only arguments: 'a' and 'b'"
     ]
    }
   ],
   "source": [
    "calc([1, 2, 3])"
   ]
  },
  {
   "cell_type": "code",
   "execution_count": 199,
   "metadata": {},
   "outputs": [
    {
     "name": "stdout",
     "output_type": "stream",
     "text": [
      "Help on built-in function chr in module builtins:\n",
      "\n",
      "chr(i, /)\n",
      "    Return a Unicode string of one character with ordinal i; 0 <= i <= 0x10ffff.\n",
      "\n"
     ]
    }
   ],
   "source": [
    "help(chr)"
   ]
  },
  {
   "cell_type": "code",
   "execution_count": 195,
   "metadata": {},
   "outputs": [
    {
     "ename": "TypeError",
     "evalue": "unhashable type: 'list'",
     "output_type": "error",
     "traceback": [
      "\u001b[0;31m---------------------------------------------------------------------------\u001b[0m",
      "\u001b[0;31mTypeError\u001b[0m                                 Traceback (most recent call last)",
      "\u001b[0;32m<ipython-input-195-abe4f355530a>\u001b[0m in \u001b[0;36m<module>\u001b[0;34m()\u001b[0m\n\u001b[0;32m----> 1\u001b[0;31m \u001b[0;34m{\u001b[0m\u001b[0mn\u001b[0m\u001b[0;34m:\u001b[0m \u001b[0;36m1\u001b[0m\u001b[0;34m}\u001b[0m\u001b[0;34m\u001b[0m\u001b[0m\n\u001b[0m",
      "\u001b[0;31mTypeError\u001b[0m: unhashable type: 'list'"
     ]
    }
   ],
   "source": [
    "{n: 1}"
   ]
  },
  {
   "cell_type": "code",
   "execution_count": null,
   "metadata": {
    "collapsed": true
   },
   "outputs": [],
   "source": []
  },
  {
   "cell_type": "code",
   "execution_count": 185,
   "metadata": {},
   "outputs": [
    {
     "data": {
      "text/plain": [
       "{Vec({'C', 'B', 'A'},{'C': 3, 'B': 2, 'A': 1}),\n",
       " 1,\n",
       " 2,\n",
       " <__main__.B at 0x10802cca8>,\n",
       " Structure Summary\n",
       " Lattice\n",
       "     abc : 7.9604672500000007 10.81088544 7.0521435600000002\n",
       "  angles : 103.12959343999999 83.338525439999998 60.81487869\n",
       "  volume : 497.31423216917989\n",
       "       A : 7.9067251320105765 0.0 0.92343734230043695\n",
       "       B : 5.5943853977353042 8.9189371209423971 -2.4557395324190501\n",
       "       C : 0.0 0.0 7.0521435600000002\n",
       " PeriodicSite: Li (5.7755, 4.9391, 5.4063) [0.3386, 0.5538, 0.9151]\n",
       " PeriodicSite: Li (7.7256, 3.9797, 0.1136) [0.6614, 0.4462, 0.0849]\n",
       " PeriodicSite: Li (7.7260, 3.9723, 3.6382) [0.6620, 0.4454, 0.5843]\n",
       " PeriodicSite: Li (5.7753, 4.9467, 1.8816) [0.3380, 0.5546, 0.4157]\n",
       " PeriodicSite: H (3.6335, 4.3057, -0.5871) [0.1180, 0.4828, 0.0694]\n",
       " PeriodicSite: H (9.8674, 4.6132, 6.1068) [0.8820, 0.5172, 0.9306]\n",
       " PeriodicSite: H (7.0046, 1.7272, 1.3406) [0.7489, 0.1937, 0.1595]\n",
       " PeriodicSite: H (6.4962, 7.1917, 4.1793) [0.2511, 0.8063, 0.8405]\n",
       " PeriodicSite: H (0.6995, 0.6670, 6.1116) [0.0355, 0.0748, 0.8880]\n",
       " PeriodicSite: H (12.8015, 8.2521, -0.5918) [0.9644, 0.9252, 0.1120]\n",
       " PeriodicSite: H (3.6370, 4.3036, 2.9308) [0.1186, 0.4825, 0.5681]\n",
       " PeriodicSite: H (9.8641, 4.6155, 2.5891) [0.8814, 0.5175, 0.4319]\n",
       " PeriodicSite: H (7.0103, 1.7234, 4.8581) [0.7499, 0.1932, 0.6580]\n",
       " PeriodicSite: H (6.4911, 7.1957, 0.6616) [0.2501, 0.8068, 0.3420]\n",
       " PeriodicSite: H (0.7004, 0.6695, 2.5866) [0.0355, 0.0751, 0.3883]\n",
       " PeriodicSite: H (12.8009, 8.2496, 2.9330) [0.9645, 0.9249, 0.6117]\n",
       " PeriodicSite: C (4.8683, 2.8990, 0.1681) [0.3857, 0.3250, 0.0865]\n",
       " PeriodicSite: C (8.6327, 6.0199, 5.3517) [0.6143, 0.6750, 0.9135]\n",
       " PeriodicSite: C (4.9942, 1.5562, 0.5506) [0.5082, 0.1745, 0.0723]\n",
       " PeriodicSite: C (8.5067, 7.3627, 4.9693) [0.4918, 0.8255, 0.9277]\n",
       " PeriodicSite: C (3.8860, 0.6952, 0.3178) [0.4363, 0.0780, 0.0151]\n",
       " PeriodicSite: C (9.6149, 8.2236, 5.2020) [0.5637, 0.9220, 0.9849]\n",
       " PeriodicSite: C (2.6619, 1.1722, 6.8421) [0.2437, 0.1314, 0.9841]\n",
       " PeriodicSite: C (10.8390, 7.7467, -1.3222) [0.7563, 0.8686, 0.0159]\n",
       " PeriodicSite: C (2.5331, 2.5514, -0.4897) [0.1180, 0.2861, 0.0147]\n",
       " PeriodicSite: C (10.9680, 6.3675, 6.0095) [0.8820, 0.7139, 0.9853]\n",
       " PeriodicSite: C (6.1926, 1.0444, 1.1180) [0.7004, 0.1171, 0.1076]\n",
       " PeriodicSite: C (7.3083, 7.8745, 4.4019) [0.2996, 0.8829, 0.8924]\n",
       " PeriodicSite: C (1.5953, 0.2754, 6.5713) [0.1799, 0.0309, 0.9190]\n",
       " PeriodicSite: C (11.9056, 8.6436, -1.0514) [0.8200, 0.9691, 0.0810]\n",
       " PeriodicSite: C (4.8710, 2.8975, 3.6896) [0.3862, 0.3249, 0.5857]\n",
       " PeriodicSite: C (8.6303, 6.0216, 1.8302) [0.6138, 0.6751, 0.4143]\n",
       " PeriodicSite: C (4.9968, 1.5549, 4.0729) [0.5086, 0.1743, 0.5716]\n",
       " PeriodicSite: C (8.5044, 7.3641, 1.4470) [0.4914, 0.8257, 0.4284]\n",
       " PeriodicSite: C (3.8872, 0.6951, 3.8431) [0.4365, 0.0779, 0.5149]\n",
       " PeriodicSite: C (9.6142, 8.2240, 1.6768) [0.5635, 0.9221, 0.4851]\n",
       " PeriodicSite: C (2.6632, 1.1722, 3.3162) [0.2438, 0.1314, 0.4841]\n",
       " PeriodicSite: C (10.8382, 7.7468, 2.2036) [0.7562, 0.8686, 0.5159]\n",
       " PeriodicSite: C (2.5356, 2.5506, 3.0339) [0.1183, 0.2860, 0.5143]\n",
       " PeriodicSite: C (10.9658, 6.3683, 2.4859) [0.8817, 0.7140, 0.4857]\n",
       " PeriodicSite: C (6.1957, 1.0425, 4.6390) [0.7009, 0.1169, 0.6067]\n",
       " PeriodicSite: C (7.3055, 7.8765, 0.8808) [0.2991, 0.8831, 0.3933]\n",
       " PeriodicSite: C (1.5950, 0.2767, 3.0479) [0.1798, 0.0310, 0.4195]\n",
       " PeriodicSite: C (11.9064, 8.6422, 2.4719) [0.8203, 0.9690, 0.5805]\n",
       " PeriodicSite: N (3.6494, 3.3214, -0.2755) [0.1981, 0.3724, 0.0647]\n",
       " PeriodicSite: N (9.8516, 5.5975, 5.7952) [0.8019, 0.6276, 0.9353]\n",
       " PeriodicSite: N (3.6527, 3.3198, 3.2449) [0.1986, 0.3722, 0.5637]\n",
       " PeriodicSite: N (9.8486, 5.5992, 2.2749) [0.8014, 0.6278, 0.4363]\n",
       " PeriodicSite: O (5.8107, 3.7931, 0.1888) [0.4340, 0.4253, 0.1180]\n",
       " PeriodicSite: O (7.6904, 5.1256, 5.3311) [0.5660, 0.5747, 0.8820]\n",
       " PeriodicSite: O (9.3997, 3.1310, 7.0304) [0.9404, 0.3511, 0.9960]\n",
       " PeriodicSite: O (4.1011, 5.7877, -1.5106) [0.0595, 0.6489, 0.0040]\n",
       " PeriodicSite: O (5.8133, 3.7913, 3.7114) [0.4345, 0.4251, 0.6174]\n",
       " PeriodicSite: O (7.6881, 5.1275, 1.8086) [0.5656, 0.5749, 0.3826]\n",
       " PeriodicSite: O (9.4020, 3.1302, 3.5022) [0.9408, 0.3510, 0.4956]\n",
       " PeriodicSite: O (4.0991, 5.7886, 2.0176) [0.0592, 0.6490, 0.5043],\n",
       " 'hello'}"
      ]
     },
     "execution_count": 185,
     "metadata": {},
     "output_type": "execute_result"
    }
   ],
   "source": [
    "{1, 2, \"hello\", v, b, i}"
   ]
  },
  {
   "cell_type": "code",
   "execution_count": null,
   "metadata": {
    "collapsed": true
   },
   "outputs": [],
   "source": []
  },
  {
   "cell_type": "code",
   "execution_count": null,
   "metadata": {
    "collapsed": true
   },
   "outputs": [],
   "source": [
    "s."
   ]
  },
  {
   "cell_type": "code",
   "execution_count": 5,
   "metadata": {},
   "outputs": [
    {
     "data": {
      "text/plain": [
       "'0b1111111100000000'"
      ]
     },
     "execution_count": 5,
     "metadata": {},
     "output_type": "execute_result"
    }
   ],
   "source": [
    "(0xff00)"
   ]
  },
  {
   "cell_type": "code",
   "execution_count": 16,
   "metadata": {},
   "outputs": [
    {
     "data": {
      "text/plain": [
       "Vec({'B', 'C', 'A'},{'C': 3, 'A': 1, 'B': 2})"
      ]
     },
     "execution_count": 16,
     "metadata": {},
     "output_type": "execute_result"
    }
   ],
   "source": [
    "v.copy()"
   ]
  },
  {
   "cell_type": "code",
   "execution_count": 10,
   "metadata": {
    "collapsed": true
   },
   "outputs": [],
   "source": [
    "m = dict({})"
   ]
  },
  {
   "cell_type": "code",
   "execution_count": 11,
   "metadata": {
    "collapsed": true
   },
   "outputs": [],
   "source": [
    "n = dict({})"
   ]
  },
  {
   "cell_type": "code",
   "execution_count": 13,
   "metadata": {},
   "outputs": [
    {
     "data": {
      "text/plain": [
       "True"
      ]
     },
     "execution_count": 13,
     "metadata": {},
     "output_type": "execute_result"
    }
   ],
   "source": [
    "m.keys() == n.keys()"
   ]
  },
  {
   "cell_type": "code",
   "execution_count": 3,
   "metadata": {},
   "outputs": [],
   "source": [
    "v['A'] = 1.0"
   ]
  },
  {
   "cell_type": "code",
   "execution_count": 4,
   "metadata": {},
   "outputs": [
    {
     "data": {
      "text/plain": [
       "{'A': 1.0, 'B': 2, 'C': 3}"
      ]
     },
     "execution_count": 4,
     "metadata": {},
     "output_type": "execute_result"
    }
   ],
   "source": [
    "v.f"
   ]
  },
  {
   "cell_type": "code",
   "execution_count": 5,
   "metadata": {},
   "outputs": [
    {
     "data": {
      "text/plain": [
       "1.0"
      ]
     },
     "execution_count": 5,
     "metadata": {},
     "output_type": "execute_result"
    }
   ],
   "source": [
    "v[\"A\"]"
   ]
  },
  {
   "cell_type": "code",
   "execution_count": null,
   "metadata": {
    "collapsed": true
   },
   "outputs": [],
   "source": []
  },
  {
   "cell_type": "code",
   "execution_count": 4,
   "metadata": {},
   "outputs": [
    {
     "data": {
      "text/plain": [
       "['D',\n",
       " '__add__',\n",
       " '__class__',\n",
       " '__delattr__',\n",
       " '__dict__',\n",
       " '__dir__',\n",
       " '__doc__',\n",
       " '__eq__',\n",
       " '__format__',\n",
       " '__ge__',\n",
       " '__getattribute__',\n",
       " '__getitem__',\n",
       " '__gt__',\n",
       " '__hash__',\n",
       " '__init__',\n",
       " '__iter__',\n",
       " '__le__',\n",
       " '__lt__',\n",
       " '__module__',\n",
       " '__mul__',\n",
       " '__ne__',\n",
       " '__neg__',\n",
       " '__new__',\n",
       " '__radd__',\n",
       " '__reduce__',\n",
       " '__reduce_ex__',\n",
       " '__repr__',\n",
       " '__rmul__',\n",
       " '__setattr__',\n",
       " '__setitem__',\n",
       " '__sizeof__',\n",
       " '__str__',\n",
       " '__sub__',\n",
       " '__subclasshook__',\n",
       " '__truediv__',\n",
       " '__weakref__',\n",
       " 'copy',\n",
       " 'f',\n",
       " 'is_almost_zero']"
      ]
     },
     "execution_count": 4,
     "metadata": {},
     "output_type": "execute_result"
    }
   ],
   "source": [
    "dir(v)"
   ]
  },
  {
   "cell_type": "code",
   "execution_count": 6,
   "metadata": {
    "collapsed": true
   },
   "outputs": [],
   "source": [
    "def triangular_solve_n(rowlist, b): \n",
    "    D = rowlist[0].D \n",
    "    n = len(D) \n",
    "    assert D == set(range(n)) \n",
    "    x = zero_vec(D) \n",
    "    for i in reversed(range(n)): \n",
    "        x[i] = (b[i] - rowlist[i] * x)/rowlist[i][i] \n",
    "    return x"
   ]
  },
  {
   "cell_type": "raw",
   "metadata": {},
   "source": [
    "triangular_solve_n(v, {4})"
   ]
  }
 ],
 "metadata": {
  "kernelspec": {
   "display_name": "Python [default]",
   "language": "python",
   "name": "python3"
  },
  "language_info": {
   "codemirror_mode": {
    "name": "ipython",
    "version": 3
   },
   "file_extension": ".py",
   "mimetype": "text/x-python",
   "name": "python",
   "nbconvert_exporter": "python",
   "pygments_lexer": "ipython3",
   "version": "3.5.4"
  }
 },
 "nbformat": 4,
 "nbformat_minor": 1
}
